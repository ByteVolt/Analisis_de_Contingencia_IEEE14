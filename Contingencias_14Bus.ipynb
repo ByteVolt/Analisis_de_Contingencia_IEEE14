{
 "cells": [
  {
   "cell_type": "markdown",
   "metadata": {},
   "source": [
    "ANALISIS DE CONTINGENCIAS CON PYTHON"
   ]
  },
  {
   "cell_type": "markdown",
   "metadata": {},
   "source": [
    "Codigo elaborado por: Washington Soto\n",
    "Para el concuros de Papers CONEIMERA 2023\n",
    "e-mail: washi.17.01@gmail.com"
   ]
  },
  {
   "cell_type": "code",
   "execution_count": 37,
   "metadata": {},
   "outputs": [],
   "source": [
    "#Librerias utilizadas\n",
    "import numpy as np\n",
    "import pandas as pd"
   ]
  },
  {
   "cell_type": "markdown",
   "metadata": {},
   "source": [
    "Funcion para determinar la matriz B "
   ]
  },
  {
   "cell_type": "code",
   "execution_count": 38,
   "metadata": {},
   "outputs": [],
   "source": [
    "def calculate_B_matrix(linedata, Sbase, Vbase):\n",
    "    j = 1j\n",
    "    nbr = int(len(linedata[:, 0]))\n",
    "    nbus = int(max(max(linedata[:, 0]\n",
    "                       ), max(linedata[:, 1])))\n",
    "    B_matrix = np.zeros((nbus, nbus), dtype=np.float64) \n",
    "\n",
    "    # Paso 1: Calcular Zbase, pero al tener los datos en pu, Zbase = 1\n",
    "    Zbase = 1\n",
    "\n",
    "    # Pase 2: Armar la matriz B\n",
    "    B_values = Zbase / linedata[:, 3]\n",
    "\n",
    "    for k in range(nbr):\n",
    "        nl = int(linedata[k, 0])\n",
    "        nr = int(linedata[k, 1])\n",
    "\n",
    "        # Paso 3: Calcular los elementos de la matriz B\n",
    "        B_matrix[nl - 1, nl - 1] += B_values[k]\n",
    "        B_matrix[nr - 1, nr - 1] += B_values[k]\n",
    "        B_matrix[nl - 1, nr - 1] -= B_values[k]\n",
    "        B_matrix[nr - 1, nl - 1] -= B_values[k]\n",
    "    # Remueve la fila y columna de la barra slack\n",
    "    B_matrix_result = B_matrix[1:, 1:]\n",
    "    return B_matrix, B_matrix_result"
   ]
  },
  {
   "cell_type": "markdown",
   "metadata": {},
   "source": [
    "Funcion para determinar el flujo DC inicial"
   ]
  },
  {
   "cell_type": "code",
   "execution_count": 39,
   "metadata": {},
   "outputs": [],
   "source": [
    "#Calculo de theta\n",
    "def calculate_theta(B_matrix_result, potencia_barras):\n",
    "    Theta = np.linalg.inv(B_matrix_result) @ potencia_barras[:,1:] / Sbase\n",
    "    Theta = np.vstack((np.array([[0]]),Theta))\n",
    "    return Theta\n",
    "#Calculo del flujo de potencia DC inicial\n",
    "def calculate_dc_power_flows(B_matrix, linedata):\n",
    "    dc_power_flows = []\n",
    "    for k in range(len(linedata)):\n",
    "        nl = int(linedata[k, 0])  # De-bus\n",
    "        nr = int(linedata[k, 1])  # A-bus\n",
    "        \n",
    "        # Obtenemos el valor de theta en los buses De-bus y A-bus\n",
    "        theta_from = Theta[nl-1]\n",
    "        theta_to = Theta[nr-1]\n",
    "        # Se calcula el flujo DC para el elemento con la formula P = B * (theta_from - theta_to)\n",
    "        B = B_matrix[nl - 1, nr - 1]\n",
    "        P = -B * (theta_from - theta_to)\n",
    "        dc_power_flows.append(P)\n",
    "\n",
    "    dc_power_flows = np.array(dc_power_flows)\n",
    "    return dc_power_flows"
   ]
  },
  {
   "cell_type": "markdown",
   "metadata": {},
   "source": [
    "Funcion para determinar los coeficientes ali (Contingencias ante salida de generador)"
   ]
  },
  {
   "cell_type": "code",
   "execution_count": 40,
   "metadata": {},
   "outputs": [],
   "source": [
    "#Calculo de F\n",
    "def calculate_F(B_matrix_result):\n",
    "    F = modified_matrix = np.pad(np.linalg.inv(B_matrix_result), ((1, 0), (1, 0)), mode='constant')\n",
    "    return F\n",
    "#Calculo de coeficientes ali\n",
    "def calculate_ali(linedata,B_matrix,F,ni):\n",
    "    ali = []\n",
    "    for k in range(len(linedata)):\n",
    "        nl = int(linedata[k, 0])  # De-bus\n",
    "        nr = int(linedata[k, 1])  # A-bus\n",
    "\n",
    "        ali.append(1/(1/-B_matrix[nl-1,nr-1])*(F[nl-1,ni-1]-F[nr-1,ni-1]))\n",
    "    ali = np.array(ali)[:, np.newaxis]\n",
    "    return ali\n",
    "#Nuevo flujo de potencia tras la salida del generador, por factores de sensibilidad\n",
    "def calculate_new_dc_power_flows(linedata, dc_power_flows, potencia_barras,Sbase,ni,ali):\n",
    "    new_dc_power_flows = []\n",
    "    for k in range(len(linedata)):\n",
    "        nl = int(linedata[k, 0])  \n",
    "        nr = int(linedata[k, 1])  \n",
    "        NP = dc_power_flows[k] + ali[k] * -potencia_barras[ni-2,1]/Sbase \n",
    "        new_dc_power_flows.append(NP)\n",
    "    new_dc_power_flows = np.array(new_dc_power_flows)\n",
    "    return new_dc_power_flows"
   ]
  },
  {
   "cell_type": "markdown",
   "metadata": {},
   "source": [
    "Funcion para determinar los coeficientes dlk (Contingencias ante salida de generador)"
   ]
  },
  {
   "cell_type": "code",
   "execution_count": 41,
   "metadata": {},
   "outputs": [],
   "source": [
    "#Calculo de factores de sencibilidad dlk\n",
    "def calculate_dlk(linedata, B_matrix, F):\n",
    "    dlk = []\n",
    "    for k in range(len(linedata)):\n",
    "        ni = int(linedata[k, 0])  # De-bus\n",
    "        nj = int(linedata[k, 1])  # A-bus\n",
    "        nm = 0 #Salida de linea 1 [1-2]\n",
    "        nn = 1 #Salida de linea 2\n",
    "        dlk.append(1/(1/(-B_matrix[ni-1,nj-1]))*((1/(-B_matrix[nm,nn])*(F[ni-1,nm]-F[nj-1,nm]-F[ni-1,nn]+F[nj-1,nn]))/(1/(-B_matrix[nm,nn])-(F[nm,nm]+F[nn,nn]-2*F[nm,nn]))))\n",
    "    dlk = np.array(dlk)[:, np.newaxis]\n",
    "    return dlk\n",
    "#Nuevo flujo de potencia tras la salida de la linea, por factores de sensibilidad\n",
    "def new_dc_power_flows_linea(linedata, dc_power_flows, dlk, nm, nn):\n",
    "    new_dc_power_flows = []\n",
    "    for k in range(len(linedata)):\n",
    "        nl = int(linedata[k, 0])  # From-bus\n",
    "        nr = int(linedata[k, 1])  # To-bus\n",
    "        NP = dc_power_flows[k] + dlk[k] * dc_power_flows[1] \n",
    "        new_dc_power_flows.append(NP)\n",
    "    new_dc_power_flows = np.array(new_dc_power_flows)\n",
    "    return new_dc_power_flows\n"
   ]
  },
  {
   "cell_type": "markdown",
   "metadata": {},
   "source": [
    "DATOS DEL SISTEMA IEEE-14 BUS"
   ]
  },
  {
   "cell_type": "code",
   "execution_count": 42,
   "metadata": {},
   "outputs": [],
   "source": [
    "# Sistema de prueba IEEE 14 bus\n",
    "# linedata = [De_Bus  A_Bus  R  X  B  TR]\n",
    "linedata = np.array([\n",
    "    [1, 2, 0.01938, 0.05917, 0.0528, 1],\n",
    "    [1, 5, 0.05403, 0.22304, 0.0492, 1],\n",
    "    [2, 3, 0.04699, 0.19797, 0.0438, 1],\n",
    "    [2, 4, 0.05811, 0.17632, 0.0374, 1],\n",
    "    [2, 5, 0.05695, 0.17388, 0.034, 1],\n",
    "    [3, 4, 0.06701, 0.17103, 0.0346, 1],\n",
    "    [4, 5, 0.01335, 0.04211, 0.0128, 1],\n",
    "    [4, 7, 0.0, 0.20912, 0.0, 1],\n",
    "    [4, 9, 0.0, 0.55618, 0.0, 1],\n",
    "    [5, 6, 0.0, 0.25202, 0.0, 1],\n",
    "    [6, 11, 0.09498, 0.1989, 0.0, 1],\n",
    "    [6, 12, 0.12291, 0.25581, 0.0, 1],\n",
    "    [6, 13, 0.06615, 0.13027, 0.0, 1],\n",
    "    [7, 8, 0.0, 0.17615, 0.0, 1],\n",
    "    [7, 9, 0.0, 0.11001, 0.0, 1],\n",
    "    [9, 10, 0.03181, 0.0845, 0.0, 1],\n",
    "    [9, 14, 0.12711, 0.27038, 0.0, 1],\n",
    "    [10, 11, 0.08205, 0.19207, 0.0, 1],\n",
    "    [12, 13, 0.22092, 0.19988, 0.0, 1],\n",
    "    [13, 14, 0.17093, 0.34802, 0.0, 1]\n",
    "])\n",
    "#Potencias en las barras, + es generada, - es consumida\n",
    "#power_injected = [De_Bus  MW]\n",
    "potencia_barras = np.array([\n",
    "    [2, 42.4-21.7],\n",
    "    [3, 23.4-94.2],\n",
    "    [4, -47.8],\n",
    "    [5, -7.6],\n",
    "    [6, 12.2-11.2],\n",
    "    [7, 0],\n",
    "    [8, 17.4],\n",
    "    [9, -29.5],\n",
    "    [10, -9],\n",
    "    [11, -3.5],\n",
    "    [12, -6.1],\n",
    "    [13, -13.5],\n",
    "    [14, -14.9]\n",
    "])\n",
    "Sbase = 100  # Potencia base del sistema en MVA\n",
    "Vbase = 60  # Voltaje base del sistema en kV (Lado de alta tensión)\n",
    "#Contingencias por salida de generador\n",
    "#ni = Bus en el que se encuentra el generador\n",
    "ni = 2\n",
    "Zbase = (Vbase ** 2) / Sbase\n",
    "#Contingencias por salida de línea\n",
    "#Salina de la línea lnm\n",
    "#nm, nn = [De_Bus  A_Bus]\n",
    "nm = 0\n",
    "nn = 1"
   ]
  },
  {
   "cell_type": "markdown",
   "metadata": {},
   "source": [
    "USO DE FUNCIONES CON DATOS DEL SISTEMA DE PRUEBA"
   ]
  },
  {
   "cell_type": "markdown",
   "metadata": {},
   "source": [
    "Flujo de potencia inicial"
   ]
  },
  {
   "cell_type": "code",
   "execution_count": 43,
   "metadata": {},
   "outputs": [
    {
     "name": "stdout",
     "output_type": "stream",
     "text": [
      "      De     A      P DC\n",
      "0    1.0   2.0  1.092783\n",
      "1    1.0   5.0  0.543217\n",
      "2    2.0   3.0  0.537253\n",
      "3    2.0   4.0  0.437597\n",
      "4    2.0   5.0  0.324932\n",
      "5    3.0   4.0 -0.170747\n",
      "6    4.0   5.0 -0.490571\n",
      "7    4.0   7.0  0.155678\n",
      "8    4.0   9.0  0.123743\n",
      "9    5.0   6.0  0.301579\n",
      "10   6.0  11.0  0.064699\n",
      "11   6.0  12.0  0.075694\n",
      "12   6.0  13.0  0.171185\n",
      "13   7.0   8.0 -0.174000\n",
      "14   7.0   9.0  0.329678\n",
      "15   9.0  10.0  0.060301\n",
      "16   9.0  14.0  0.098121\n",
      "17  10.0  11.0 -0.029699\n",
      "18  12.0  13.0  0.014694\n",
      "19  13.0  14.0  0.050879\n"
     ]
    }
   ],
   "source": [
    "B_matrix, B_matrix_result = calculate_B_matrix(linedata, Sbase, Vbase)\n",
    "Theta = calculate_theta(B_matrix_result, potencia_barras)\n",
    "dc_power_flows = calculate_dc_power_flows(B_matrix, linedata)\n",
    "dc_power_flows_tabla = np.hstack((linedata[:, (0, 1)], dc_power_flows))\n",
    "#Muestra las potencias activas de los elementos en una tabla\n",
    "dc_power_flows_tabla = pd.DataFrame(dc_power_flows_tabla)\n",
    "dc_power_flows_tabla.columns = ['De', 'A', 'P DC']\n",
    "print(dc_power_flows_tabla)"
   ]
  },
  {
   "cell_type": "markdown",
   "metadata": {},
   "source": [
    "Flujo de potencia ante salida del generador"
   ]
  },
  {
   "cell_type": "code",
   "execution_count": 44,
   "metadata": {},
   "outputs": [
    {
     "name": "stdout",
     "output_type": "stream",
     "text": [
      "      De     A      P DC\n",
      "0    1.0   2.0  1.266254\n",
      "1    1.0   5.0  0.576746\n",
      "2    2.0   3.0  0.531593\n",
      "3    2.0   4.0  0.425752\n",
      "4    2.0   5.0  0.308909\n",
      "5    3.0   4.0 -0.176407\n",
      "6    4.0   5.0 -0.507135\n",
      "7    4.0   7.0  0.155080\n",
      "8    4.0   9.0  0.123400\n",
      "9    5.0   6.0  0.302520\n",
      "10   6.0  11.0  0.065266\n",
      "11   6.0  12.0  0.075777\n",
      "12   6.0  13.0  0.171477\n",
      "13   7.0   8.0 -0.174000\n",
      "14   7.0   9.0  0.329080\n",
      "15   9.0  10.0  0.059734\n",
      "16   9.0  14.0  0.097746\n",
      "17  10.0  11.0 -0.030266\n",
      "18  12.0  13.0  0.014777\n",
      "19  13.0  14.0  0.051254\n"
     ]
    }
   ],
   "source": [
    "F = calculate_F(B_matrix_result)\n",
    "ali = calculate_ali(linedata,B_matrix,F,ni)\n",
    "new_dc_power_flows = calculate_new_dc_power_flows(linedata, dc_power_flows, potencia_barras,Sbase,ni,ali)\n",
    "\n",
    "new_dc_power_flows_tabla = np.hstack((linedata[:, (0, 1)], new_dc_power_flows))\n",
    "#Muestra las potencias activas de los elementos en una tabla\n",
    "dc_power_flows_tabla = pd.DataFrame(new_dc_power_flows_tabla)\n",
    "dc_power_flows_tabla.columns = ['De', 'A', 'P DC']\n",
    "print(dc_power_flows_tabla)\n"
   ]
  },
  {
   "cell_type": "markdown",
   "metadata": {},
   "source": [
    "Flujo de potencia ante salida de linea"
   ]
  },
  {
   "cell_type": "code",
   "execution_count": 45,
   "metadata": {},
   "outputs": [
    {
     "name": "stdout",
     "output_type": "stream",
     "text": [
      "      De     A      P DC\n",
      "0    1.0   2.0  3.903303\n",
      "1    1.0   5.0  1.086435\n",
      "2    2.0   3.0  0.445550\n",
      "3    2.0   4.0  0.245683\n",
      "4    2.0   5.0  0.065332\n",
      "5    3.0   4.0 -0.262450\n",
      "6    4.0   5.0 -0.758939\n",
      "7    4.0   7.0  0.145989\n",
      "8    4.0   9.0  0.118184\n",
      "9    5.0   6.0  0.316827\n",
      "10   6.0  11.0  0.073881\n",
      "11   6.0  12.0  0.077043\n",
      "12   6.0  13.0  0.175903\n",
      "13   7.0   8.0 -0.174000\n",
      "14   7.0   9.0  0.319989\n",
      "15   9.0  10.0  0.051119\n",
      "16   9.0  14.0  0.092054\n",
      "17  10.0  11.0 -0.038881\n",
      "18  12.0  13.0  0.016043\n",
      "19  13.0  14.0  0.056946\n"
     ]
    }
   ],
   "source": [
    "dlk = calculate_dlk(linedata, B_matrix, F)\n",
    "new_dc_power_flows = new_dc_power_flows_linea(linedata, dc_power_flows, dlk, nm, nn)\n",
    "\n",
    "new_dc_power_flows_tabla = np.hstack((linedata[:, (0, 1)], new_dc_power_flows))\n",
    "#Muestra las potencias activas de los elementos en una tabla\n",
    "new_dc_power_flows_tabla = pd.DataFrame(new_dc_power_flows_tabla)\n",
    "new_dc_power_flows_tabla.columns = ['De', 'A', 'P DC']\n",
    "print(new_dc_power_flows_tabla)\n"
   ]
  }
 ],
 "metadata": {
  "kernelspec": {
   "display_name": "Python 3",
   "language": "python",
   "name": "python3"
  },
  "language_info": {
   "codemirror_mode": {
    "name": "ipython",
    "version": 3
   },
   "file_extension": ".py",
   "mimetype": "text/x-python",
   "name": "python",
   "nbconvert_exporter": "python",
   "pygments_lexer": "ipython3",
   "version": "3.11.3"
  },
  "orig_nbformat": 4
 },
 "nbformat": 4,
 "nbformat_minor": 2
}
