{
 "cells": [
  {
   "cell_type": "markdown",
   "metadata": {},
   "source": [
    "ANALISIS DE CONTINGENCIAS CON PYTHON"
   ]
  },
  {
   "cell_type": "markdown",
   "metadata": {},
   "source": [
    "Funcion para la matriz B y B''"
   ]
  },
  {
   "cell_type": "code",
   "execution_count": 103,
   "metadata": {},
   "outputs": [],
   "source": [
    "import numpy as np\n",
    "import pandas as pd"
   ]
  },
  {
   "cell_type": "code",
   "execution_count": 104,
   "metadata": {},
   "outputs": [],
   "source": [
    "def calculate_B_matrix(linedata, Sbase, Vbase):\n",
    "    j = 1j\n",
    "    nbr = int(len(linedata[:, 0]))\n",
    "    nbus = int(max(max(linedata[:, 0]\n",
    "                       ), max(linedata[:, 1])))\n",
    "    B_matrix = np.zeros((nbus, nbus), dtype=np.float64) \n",
    "\n",
    "    # Paso 1: Calcular Zbase, pero al tener los datos en pu, Zbase = 1\n",
    "    Zbase = 1\n",
    "\n",
    "    # Pase 2: Armar la matriz B\n",
    "    B_values = Zbase / linedata[:, 3]\n",
    "\n",
    "    for k in range(nbr):\n",
    "        nl = int(linedata[k, 0])\n",
    "        nr = int(linedata[k, 1])\n",
    "\n",
    "        # Paso 3: Calcular los elementos de la matriz B\n",
    "        B_matrix[nl - 1, nl - 1] += B_values[k]\n",
    "        B_matrix[nr - 1, nr - 1] += B_values[k]\n",
    "        B_matrix[nl - 1, nr - 1] -= B_values[k]\n",
    "        B_matrix[nr - 1, nl - 1] -= B_values[k]\n",
    "    # Remueve la fila y columna de la barra slack\n",
    "    B_matrix_result = B_matrix[1:, 1:]\n",
    "    return B_matrix, B_matrix_result\n"
   ]
  },
  {
   "cell_type": "code",
   "execution_count": 105,
   "metadata": {},
   "outputs": [],
   "source": [
    "# Sistema de prueba IEEE 14 bus\n",
    "# linedata = [De_Bus  A_Bus  R  X  B  TR]\n",
    "linedata = np.array([\n",
    "    [1, 2, 0.01938, 0.05917, 0.0528, 1],\n",
    "    [1, 5, 0.05403, 0.22304, 0.0492, 1],\n",
    "    [2, 3, 0.04699, 0.19797, 0.0438, 1],\n",
    "    [2, 4, 0.05811, 0.17632, 0.0374, 1],\n",
    "    [2, 5, 0.05695, 0.17388, 0.034, 1],\n",
    "    [3, 4, 0.06701, 0.17103, 0.0346, 1],\n",
    "    [4, 5, 0.01335, 0.04211, 0.0128, 1],\n",
    "    [4, 7, 0.0, 0.20912, 0.0, 1],\n",
    "    [4, 9, 0.0, 0.55618, 0.0, 1],\n",
    "    [5, 6, 0.0, 0.25202, 0.0, 1],\n",
    "    [6, 11, 0.09498, 0.1989, 0.0, 1],\n",
    "    [6, 12, 0.12291, 0.25581, 0.0, 1],\n",
    "    [6, 13, 0.06615, 0.13027, 0.0, 1],\n",
    "    [7, 8, 0.0, 0.17615, 0.0, 1],\n",
    "    [7, 9, 0.0, 0.11001, 0.0, 1],\n",
    "    [9, 10, 0.03181, 0.0845, 0.0, 1],\n",
    "    [9, 14, 0.12711, 0.27038, 0.0, 1],\n",
    "    [10, 11, 0.08205, 0.19207, 0.0, 1],\n",
    "    [12, 13, 0.22092, 0.19988, 0.0, 1],\n",
    "    [13, 14, 0.17093, 0.34802, 0.0, 1]\n",
    "])\n",
    "Sbase = 100  # Potencia base del sistema en MVA\n",
    "Vbase = 60  # Voltaje base del sistema en kV (Lado de alta tensión)\n",
    "#Potencias en las barras, + es generada, - es consumida\n",
    "#power_injected = [De_Bus  MW]\n",
    "potencia_barras = np.array([\n",
    "    [2, 42.4-21.7],\n",
    "    [3, 23.4-94.2],\n",
    "    [4, -47.8],\n",
    "    [5, -7.6],\n",
    "    [6, 12.2-11.2],\n",
    "    [7, 0],\n",
    "    [8, 17.4],\n",
    "    [9, -29.5],\n",
    "    [10, -9],\n",
    "    [11, -3.5],\n",
    "    [12, -6.1],\n",
    "    [13, -13.5],\n",
    "    [14, -14.9]\n",
    "])\n",
    "Zbase = (Vbase ** 2) / Sbase"
   ]
  },
  {
   "cell_type": "code",
   "execution_count": 106,
   "metadata": {},
   "outputs": [
    {
     "name": "stdout",
     "output_type": "stream",
     "text": [
      "B Matrix Result:\n",
      "           2          3          4          5          6          7        8    \n",
      "2   33.374326  -5.051270  -5.671506  -5.751093   0.000000   0.000000  0.00000  \\\n",
      "3   -5.051270  10.898198  -5.846927   0.000000   0.000000   0.000000  0.00000   \n",
      "4   -5.671506  -5.846927  41.845685 -23.747328   0.000000  -4.781943  0.00000   \n",
      "5   -5.751093   0.000000 -23.747328  37.949861  -3.967939   0.000000  0.00000   \n",
      "6    0.000000   0.000000   0.000000  -3.967939  20.581107   0.000000  0.00000   \n",
      "7    0.000000   0.000000  -4.781943   0.000000   0.000000  19.549006 -5.67698   \n",
      "8    0.000000   0.000000   0.000000   0.000000   0.000000  -5.676980  5.67698   \n",
      "9    0.000000   0.000000  -1.797979   0.000000   0.000000  -9.090083  0.00000   \n",
      "10   0.000000   0.000000   0.000000   0.000000   0.000000   0.000000  0.00000   \n",
      "11   0.000000   0.000000   0.000000   0.000000  -5.027652   0.000000  0.00000   \n",
      "12   0.000000   0.000000   0.000000   0.000000  -3.909151   0.000000  0.00000   \n",
      "13   0.000000   0.000000   0.000000   0.000000  -7.676364   0.000000  0.00000   \n",
      "14   0.000000   0.000000   0.000000   0.000000   0.000000   0.000000  0.00000   \n",
      "\n",
      "           9          10         11        12         13        14  \n",
      "2    0.000000   0.000000   0.000000  0.000000   0.000000  0.000000  \n",
      "3    0.000000   0.000000   0.000000  0.000000   0.000000  0.000000  \n",
      "4   -1.797979   0.000000   0.000000  0.000000   0.000000  0.000000  \n",
      "5    0.000000   0.000000   0.000000  0.000000   0.000000  0.000000  \n",
      "6    0.000000   0.000000  -5.027652 -3.909151  -7.676364  0.000000  \n",
      "7   -9.090083   0.000000   0.000000  0.000000   0.000000  0.000000  \n",
      "8    0.000000   0.000000   0.000000  0.000000   0.000000  0.000000  \n",
      "9   26.420880 -11.834320   0.000000  0.000000   0.000000 -3.698498  \n",
      "10 -11.834320  17.040755  -5.206435  0.000000   0.000000  0.000000  \n",
      "11   0.000000  -5.206435  10.234087  0.000000   0.000000  0.000000  \n",
      "12   0.000000   0.000000   0.000000  8.912153  -5.003002  0.000000  \n",
      "13   0.000000   0.000000   0.000000 -5.003002  15.552764 -2.873398  \n",
      "14  -3.698498   0.000000   0.000000  0.000000  -2.873398  6.571896  \n"
     ]
    }
   ],
   "source": [
    "B_matrix, B_matrix_result = calculate_B_matrix(linedata, Sbase, Vbase)\n",
    "# Display B matrix result as a table\n",
    "B_table_result = pd.DataFrame(B_matrix_result, index=range(2, B_matrix_result.shape[0] + 2),\n",
    "                              columns=range(2, B_matrix_result.shape[1] + 2))\n",
    "\n",
    "print(\"B Matrix Result:\")\n",
    "print(B_table_result)"
   ]
  },
  {
   "cell_type": "code",
   "execution_count": 107,
   "metadata": {},
   "outputs": [
    {
     "name": "stdout",
     "output_type": "stream",
     "text": [
      "[[ 0.        ]\n",
      " [-0.06465996]\n",
      " [-0.17101996]\n",
      " [-0.14181712]\n",
      " [-0.12115918]\n",
      " [-0.19716299]\n",
      " [-0.1743726 ]\n",
      " [-0.1437225 ]\n",
      " [-0.21064052]\n",
      " [-0.21573595]\n",
      " [-0.21003164]\n",
      " [-0.21652628]\n",
      " [-0.21946332]\n",
      " [-0.23717037]]\n"
     ]
    }
   ],
   "source": [
    "#Codigo para calcular el flujo DC\n",
    "Theta = np.linalg.inv(B_matrix_result) @ potencia_barras[:,1:] / Sbase\n",
    "Theta = np.vstack((np.array([[0]]),Theta))\n",
    "print(Theta)"
   ]
  },
  {
   "cell_type": "code",
   "execution_count": 108,
   "metadata": {},
   "outputs": [
    {
     "name": "stdout",
     "output_type": "stream",
     "text": [
      "\n",
      "Flujo de potencia DC para cada elemento en linedata:\n",
      "[[ 1.09278275]\n",
      " [ 0.54321725]\n",
      " [ 0.53725313]\n",
      " [ 0.43759736]\n",
      " [ 0.32493226]\n",
      " [-0.17074687]\n",
      " [-0.490571  ]\n",
      " [ 0.15567845]\n",
      " [ 0.12374304]\n",
      " [ 0.30157851]\n",
      " [ 0.0646991 ]\n",
      " [ 0.07569401]\n",
      " [ 0.1711854 ]\n",
      " [-0.174     ]\n",
      " [ 0.32967845]\n",
      " [ 0.0603009 ]\n",
      " [ 0.09812059]\n",
      " [-0.0296991 ]\n",
      " [ 0.01469401]\n",
      " [ 0.05087941]]\n"
     ]
    },
    {
     "data": {
      "text/plain": [
       "(20, 1)"
      ]
     },
     "execution_count": 108,
     "metadata": {},
     "output_type": "execute_result"
    }
   ],
   "source": [
    "dc_power_flows = []\n",
    "for k in range(len(linedata)):\n",
    "    nl = int(linedata[k, 0])  # De-bus\n",
    "    nr = int(linedata[k, 1])  # A-bus\n",
    "    \n",
    "    # Obtenemos el valor de theta en los buses De-bus y A-bus\n",
    "    theta_from = Theta[nl-1]\n",
    "    theta_to = Theta[nr-1]\n",
    "    # Se calcula el flujo DC para el elemento con la formula P = B * (theta_from - theta_to)\n",
    "    B = B_matrix[nl - 1, nr - 1]\n",
    "    P = -B * (theta_from - theta_to)\n",
    "    dc_power_flows.append(P)\n",
    "\n",
    "dc_power_flows = np.array(dc_power_flows)\n",
    "print(\"\\nFlujo de potencia DC para cada elemento en linedata:\")\n",
    "print(dc_power_flows)\n",
    "np.shape(dc_power_flows)"
   ]
  },
  {
   "cell_type": "code",
   "execution_count": 109,
   "metadata": {},
   "outputs": [],
   "source": [
    "#Calculos para los coeficientes por salida de generador\n",
    "#Calculo de F\n",
    "F = modified_matrix = np.pad(np.linalg.inv(B_matrix_result), ((1, 0), (1, 0)), mode='constant')"
   ]
  },
  {
   "cell_type": "code",
   "execution_count": 110,
   "metadata": {},
   "outputs": [],
   "source": [
    "#Insertar la informacion del BUS en el que se encuentra el generador a ser retirado\n",
    "ni = 2"
   ]
  },
  {
   "cell_type": "code",
   "execution_count": 111,
   "metadata": {},
   "outputs": [
    {
     "name": "stdout",
     "output_type": "stream",
     "text": [
      "ali coefficients:\n",
      "[[-8.38026301e-01]\n",
      " [-1.61973699e-01]\n",
      " [ 2.73434474e-02]\n",
      " [ 5.72239797e-02]\n",
      " [ 7.74062715e-02]\n",
      " [ 2.73434474e-02]\n",
      " [ 8.00206695e-02]\n",
      " [ 2.88905148e-03]\n",
      " [ 1.65770613e-03]\n",
      " [-4.54675761e-03]\n",
      " [-2.73795096e-03]\n",
      " [-4.02131958e-04]\n",
      " [-1.40667469e-03]\n",
      " [ 3.93919609e-17]\n",
      " [ 2.88905148e-03]\n",
      " [ 2.73795096e-03]\n",
      " [ 1.80880665e-03]\n",
      " [ 2.73795096e-03]\n",
      " [-4.02131958e-04]\n",
      " [-1.80880665e-03]]\n",
      "(20, 1)\n"
     ]
    }
   ],
   "source": [
    "ali = []\n",
    "for k in range(len(linedata)):\n",
    "    nl = int(linedata[k, 0])  # De-bus\n",
    "    nr = int(linedata[k, 1])  # A-bus\n",
    "\n",
    "    ali.append(1/(1/-B_matrix[nl-1,nr-1])*(F[nl-1,ni-1]-F[nr-1,ni-1]))\n",
    "ali = np.array(ali)[:, np.newaxis]\n",
    "print(\"ali coefficients:\")\n",
    "print(ali)\n",
    "print(np.shape(ali))"
   ]
  },
  {
   "cell_type": "code",
   "execution_count": 112,
   "metadata": {},
   "outputs": [
    {
     "name": "stdout",
     "output_type": "stream",
     "text": [
      "\n",
      "Nuevos flujo DC tras la salida del generador de la barra 2\n",
      "[[ 1.26625419]\n",
      " [ 0.57674581]\n",
      " [ 0.53159304]\n",
      " [ 0.42575199]\n",
      " [ 0.30890916]\n",
      " [-0.17640696]\n",
      " [-0.50713528]\n",
      " [ 0.15508041]\n",
      " [ 0.12339989]\n",
      " [ 0.30251969]\n",
      " [ 0.06526586]\n",
      " [ 0.07577725]\n",
      " [ 0.17147659]\n",
      " [-0.174     ]\n",
      " [ 0.32908041]\n",
      " [ 0.05973414]\n",
      " [ 0.09774616]\n",
      " [-0.03026586]\n",
      " [ 0.01477725]\n",
      " [ 0.05125384]]\n"
     ]
    }
   ],
   "source": [
    "#Calculo del nuevo flujo DC con los factores de correccion tras la salida del generador\n",
    "new_dc_power_flows = []\n",
    "for k in range(len(linedata)):\n",
    "    nl = int(linedata[k, 0])  \n",
    "    nr = int(linedata[k, 1])  \n",
    "    NP = dc_power_flows[k] + ali[k] * -potencia_barras[ni-2,1]/Sbase \n",
    "    new_dc_power_flows.append(NP)\n",
    "new_dc_power_flows = np.array(new_dc_power_flows)\n",
    "#Imprime los nuevos flujos DC con ni, correspondiente a la variable ni\n",
    "print(\"\\nNuevos flujo DC tras la salida del generador de la barra {}\".format(ni))\n",
    "print(new_dc_power_flows)"
   ]
  },
  {
   "cell_type": "markdown",
   "metadata": {},
   "source": [
    "Analisis de contingencias por salida de linea"
   ]
  },
  {
   "cell_type": "code",
   "execution_count": 113,
   "metadata": {},
   "outputs": [],
   "source": [
    "linedata = np.array([\n",
    "    [1, 2, 0.01938, 0.05917, 0.0528, 1],\n",
    "    [1, 5, 0.05403, 0.22304, 0.0492, 1],\n",
    "    [2, 3, 0.04699, 0.19797, 0.0438, 1],\n",
    "    [2, 4, 0.05811, 0.17632, 0.0374, 1],\n",
    "    [2, 5, 0.05695, 0.17388, 0.034, 1],\n",
    "    [3, 4, 0.06701, 0.17103, 0.0346, 1],\n",
    "    [4, 5, 0.01335, 0.04211, 0.0128, 1],\n",
    "    [4, 7, 0.0, 0.20912, 0.0, 1],\n",
    "    [4, 9, 0.0, 0.55618, 0.0, 1],\n",
    "    [5, 6, 0.0, 0.25202, 0.0, 1],\n",
    "    [6, 11, 0.09498, 0.1989, 0.0, 1],\n",
    "    [6, 12, 0.12291, 0.25581, 0.0, 1],\n",
    "    [6, 13, 0.06615, 0.13027, 0.0, 1],\n",
    "    [7, 8, 0.0, 0.17615, 0.0, 1],\n",
    "    [7, 9, 0.0, 0.11001, 0.0, 1],\n",
    "    [9, 10, 0.03181, 0.0845, 0.0, 1],\n",
    "    [9, 14, 0.12711, 0.27038, 0.0, 1],\n",
    "    [10, 11, 0.08205, 0.19207, 0.0, 1],\n",
    "    [12, 13, 0.22092, 0.19988, 0.0, 1],\n",
    "    [13, 14, 0.17093, 0.34802, 0.0, 1]\n",
    "])\n",
    "power_injected = np.array([\n",
    "    [2, 42.4-21.7],\n",
    "    [3, 23.4-94.2],\n",
    "    [4, -47.8],\n",
    "    [5, -7.6],\n",
    "    [6, 12.2-11.2],\n",
    "    [7, 0],\n",
    "    [8, 17.4],\n",
    "    [9, -29.5],\n",
    "    [10, -9],\n",
    "    [11, -3.5],\n",
    "    [12, -6.1],\n",
    "    [13, -13.5],\n",
    "    [14, -14.9]\n",
    "])\n",
    "Sbase = 100  # System base MVA\n",
    "Vbase = 60  # System base voltage kV"
   ]
  },
  {
   "cell_type": "code",
   "execution_count": 114,
   "metadata": {},
   "outputs": [
    {
     "data": {
      "text/plain": [
       "array([[ 21.38395703, -16.90045631,   0.        ,   0.        ,\n",
       "         -4.48350072,   0.        ,   0.        ,   0.        ,\n",
       "          0.        ,   0.        ,   0.        ,   0.        ,\n",
       "          0.        ,   0.        ],\n",
       "       [-16.90045631,  33.37432577,  -5.05127039,  -5.67150635,\n",
       "         -5.75109271,   0.        ,   0.        ,   0.        ,\n",
       "          0.        ,   0.        ,   0.        ,   0.        ,\n",
       "          0.        ,   0.        ],\n",
       "       [  0.        ,  -5.05127039,  10.89819783,  -5.84692744,\n",
       "          0.        ,   0.        ,   0.        ,   0.        ,\n",
       "          0.        ,   0.        ,   0.        ,   0.        ,\n",
       "          0.        ,   0.        ],\n",
       "       [  0.        ,  -5.67150635,  -5.84692744,  41.84568467,\n",
       "        -23.74732843,   0.        ,  -4.78194338,   0.        ,\n",
       "         -1.79797907,   0.        ,   0.        ,   0.        ,\n",
       "          0.        ,   0.        ],\n",
       "       [ -4.48350072,  -5.75109271,   0.        , -23.74732843,\n",
       "         37.9498609 ,  -3.96793905,   0.        ,   0.        ,\n",
       "          0.        ,   0.        ,   0.        ,   0.        ,\n",
       "          0.        ,   0.        ],\n",
       "       [  0.        ,   0.        ,   0.        ,   0.        ,\n",
       "         -3.96793905,  20.58110694,   0.        ,   0.        ,\n",
       "          0.        ,   0.        ,  -5.02765209,  -3.90915132,\n",
       "         -7.67636447,   0.        ],\n",
       "       [  0.        ,   0.        ,   0.        ,  -4.78194338,\n",
       "          0.        ,   0.        ,  19.54900595,  -5.67697985,\n",
       "         -9.09008272,   0.        ,   0.        ,   0.        ,\n",
       "          0.        ,   0.        ],\n",
       "       [  0.        ,   0.        ,   0.        ,   0.        ,\n",
       "          0.        ,   0.        ,  -5.67697985,   5.67697985,\n",
       "          0.        ,   0.        ,   0.        ,   0.        ,\n",
       "          0.        ,   0.        ],\n",
       "       [  0.        ,   0.        ,   0.        ,  -1.79797907,\n",
       "          0.        ,   0.        ,  -9.09008272,   0.        ,\n",
       "         26.42087973, -11.83431953,   0.        ,   0.        ,\n",
       "          0.        ,  -3.69849841],\n",
       "       [  0.        ,   0.        ,   0.        ,   0.        ,\n",
       "          0.        ,   0.        ,   0.        ,   0.        ,\n",
       "        -11.83431953,  17.04075468,  -5.20643515,   0.        ,\n",
       "          0.        ,   0.        ],\n",
       "       [  0.        ,   0.        ,   0.        ,   0.        ,\n",
       "          0.        ,  -5.02765209,   0.        ,   0.        ,\n",
       "          0.        ,  -5.20643515,  10.23408724,   0.        ,\n",
       "          0.        ,   0.        ],\n",
       "       [  0.        ,   0.        ,   0.        ,   0.        ,\n",
       "          0.        ,  -3.90915132,   0.        ,   0.        ,\n",
       "          0.        ,   0.        ,   0.        ,   8.91215312,\n",
       "         -5.0030018 ,   0.        ],\n",
       "       [  0.        ,   0.        ,   0.        ,   0.        ,\n",
       "          0.        ,  -7.67636447,   0.        ,   0.        ,\n",
       "          0.        ,   0.        ,   0.        ,  -5.0030018 ,\n",
       "         15.55276436,  -2.87339808],\n",
       "       [  0.        ,   0.        ,   0.        ,   0.        ,\n",
       "          0.        ,   0.        ,   0.        ,   0.        ,\n",
       "         -3.69849841,   0.        ,   0.        ,   0.        ,\n",
       "         -2.87339808,   6.57189649]])"
      ]
     },
     "execution_count": 114,
     "metadata": {},
     "output_type": "execute_result"
    }
   ],
   "source": [
    "B_matrix, B_matrix_result= calculate_B_matrix(linedata, Sbase, Vbase)\n",
    "B_matrix"
   ]
  },
  {
   "cell_type": "code",
   "execution_count": 115,
   "metadata": {},
   "outputs": [
    {
     "name": "stdout",
     "output_type": "stream",
     "text": [
      "[[ 0.        ]\n",
      " [-0.06465996]\n",
      " [-0.17101996]\n",
      " [-0.14181712]\n",
      " [-0.12115918]\n",
      " [-0.19716299]\n",
      " [-0.1743726 ]\n",
      " [-0.1437225 ]\n",
      " [-0.21064052]\n",
      " [-0.21573595]\n",
      " [-0.21003164]\n",
      " [-0.21652628]\n",
      " [-0.21946332]\n",
      " [-0.23717037]]\n"
     ]
    }
   ],
   "source": [
    "#Codigo para el flujo de potencia\n",
    "Theta = np.linalg.inv(B_matrix_result) @ power_injected[:,1:] / Sbase\n",
    "Theta = np.vstack((np.array([[0]]),Theta))\n",
    "print(Theta)"
   ]
  },
  {
   "cell_type": "code",
   "execution_count": 116,
   "metadata": {},
   "outputs": [
    {
     "name": "stdout",
     "output_type": "stream",
     "text": [
      "\n",
      "Flujo de potencia en DC para cada elemento en linedata:\n",
      "[[ 1.09278275]\n",
      " [ 0.54321725]\n",
      " [ 0.53725313]\n",
      " [ 0.43759736]\n",
      " [ 0.32493226]\n",
      " [-0.17074687]\n",
      " [-0.490571  ]\n",
      " [ 0.15567845]\n",
      " [ 0.12374304]\n",
      " [ 0.30157851]\n",
      " [ 0.0646991 ]\n",
      " [ 0.07569401]\n",
      " [ 0.1711854 ]\n",
      " [-0.174     ]\n",
      " [ 0.32967845]\n",
      " [ 0.0603009 ]\n",
      " [ 0.09812059]\n",
      " [-0.0296991 ]\n",
      " [ 0.01469401]\n",
      " [ 0.05087941]]\n"
     ]
    }
   ],
   "source": [
    "dc_power_flows = []\n",
    "for k in range(len(linedata)):\n",
    "    nl = int(linedata[k, 0]) \n",
    "    nr = int(linedata[k, 1])  \n",
    "    \n",
    "    theta_from = Theta[nl-1]\n",
    "    theta_to = Theta[nr-1]\n",
    "    B = B_matrix[nl - 1, nr - 1]\n",
    "    P = -B * (theta_from - theta_to)\n",
    "    dc_power_flows.append(P)\n",
    "\n",
    "dc_power_flows = np.array(dc_power_flows)\n",
    "print(\"\\nFlujo de potencia en DC para cada elemento en linedata:\")\n",
    "print(dc_power_flows)\n"
   ]
  },
  {
   "cell_type": "markdown",
   "metadata": {},
   "source": [
    "#Factores por salida de lines dlk"
   ]
  },
  {
   "cell_type": "code",
   "execution_count": 117,
   "metadata": {},
   "outputs": [
    {
     "name": "stdout",
     "output_type": "stream",
     "text": [
      "[[0.         0.         0.         0.         0.         0.\n",
      "  0.         0.         0.         0.         0.         0.\n",
      "  0.         0.        ]\n",
      " [0.         0.04958602 0.04417283 0.03949628 0.03612661 0.03727249\n",
      "  0.03889213 0.03889213 0.0385743  0.03834294 0.03781707 0.03737536\n",
      "  0.03745574 0.03808524]\n",
      " [0.         0.04417283 0.14949934 0.06946288 0.05653148 0.06092887\n",
      "  0.06714437 0.06714437 0.06592469 0.06503684 0.06301874 0.06132364\n",
      "  0.0616321  0.06404786]\n",
      " [0.         0.03949628 0.06946288 0.09535159 0.07415963 0.08136607\n",
      "  0.09155202 0.09155202 0.08955321 0.0880982  0.08479094 0.08201302\n",
      "  0.08251852 0.08647746]\n",
      " [0.         0.03612661 0.05653148 0.07415963 0.08686153 0.08254219\n",
      "  0.076437   0.076437   0.07763503 0.07850712 0.08048941 0.08215442\n",
      "  0.08185144 0.07947855]\n",
      " [0.         0.03727249 0.06092887 0.08136607 0.08254219 0.24846154\n",
      "  0.12676237 0.12676237 0.15064362 0.16802771 0.20754206 0.24073196\n",
      "  0.23469237 0.18739184]\n",
      " [0.         0.03889213 0.06714437 0.09155202 0.076437   0.12676237\n",
      "  0.22417734 0.22417734 0.18393642 0.17377551 0.15067959 0.13128027\n",
      "  0.13481037 0.16245728]\n",
      " [0.         0.03889213 0.06714437 0.09155202 0.076437   0.12676237\n",
      "  0.22417734 0.40032734 0.18393642 0.17377551 0.15067959 0.13128027\n",
      "  0.13481037 0.16245728]\n",
      " [0.         0.0385743  0.06592469 0.08955321 0.07763503 0.15064362\n",
      "  0.18393642 0.18393642 0.2335878  0.21884706 0.18534107 0.15719787\n",
      "  0.16231911 0.20242734]\n",
      " [0.         0.03834294 0.06503684 0.0880982  0.07850712 0.16802771\n",
      "  0.17377551 0.17377551 0.21884706 0.27929825 0.22463489 0.17204346\n",
      "  0.17518121 0.19975525]\n",
      " [0.         0.03781707 0.06301874 0.08479094 0.08048941 0.20754206\n",
      "  0.15067959 0.15067959 0.18534107 0.22463489 0.31395045 0.20578774\n",
      "  0.20441698 0.19368154]\n",
      " [0.         0.03737536 0.06132364 0.08201302 0.08215442 0.24073196\n",
      "  0.13128027 0.13128027 0.15719787 0.17204346 0.20578774 0.37376925\n",
      "  0.27783943 0.20994539]\n",
      " [0.         0.03745574 0.0616321  0.08251852 0.08185144 0.23469237\n",
      "  0.13481037 0.13481037 0.16231911 0.17518121 0.20441698 0.27783943\n",
      "  0.31155287 0.22756786]\n",
      " [0.         0.03808524 0.06404786 0.08647746 0.07947855 0.18739184\n",
      "  0.16245728 0.16245728 0.20242734 0.19975525 0.19368154 0.20994539\n",
      "  0.22756786 0.36558249]]\n"
     ]
    }
   ],
   "source": [
    "#Calculo de F\n",
    "F = modified_matrix = np.pad(np.linalg.inv(B_matrix_result), ((1, 0), (1, 0)), mode='constant')\n",
    "print(F)"
   ]
  },
  {
   "cell_type": "code",
   "execution_count": 118,
   "metadata": {},
   "outputs": [
    {
     "name": "stdout",
     "output_type": "stream",
     "text": [
      "Coeficientes dlk\n",
      "[[ 5.17384185e+00]\n",
      " [ 1.00000000e+00]\n",
      " [-1.68814120e-01]\n",
      " [-3.53291801e-01]\n",
      " [-4.77894079e-01]\n",
      " [-1.68814120e-01]\n",
      " [-4.94034959e-01]\n",
      " [-1.78365469e-02]\n",
      " [-1.02344155e-02]\n",
      " [ 2.80709624e-02]\n",
      " [ 1.69036762e-02]\n",
      " [ 2.48269911e-03]\n",
      " [ 8.68458708e-03]\n",
      " [-2.43199737e-16]\n",
      " [-1.78365469e-02]\n",
      " [-1.69036762e-02]\n",
      " [-1.11672862e-02]\n",
      " [-1.69036762e-02]\n",
      " [ 2.48269911e-03]\n",
      " [ 1.11672862e-02]]\n"
     ]
    }
   ],
   "source": [
    "dlk = []\n",
    "for k in range(len(linedata)):\n",
    "    ni = int(linedata[k, 0])  # De-bus\n",
    "    nj = int(linedata[k, 1])  # A-bus\n",
    "    nm = 0 #Salida de linea 1 [1-2]\n",
    "    nn = 1 #Salida de linea 2\n",
    "    dlk.append(1/(1/(-B_matrix[ni-1,nj-1]))*((1/(-B_matrix[nm,nn])*(F[ni-1,nm]-F[nj-1,nm]-F[ni-1,nn]+F[nj-1,nn]))/(1/(-B_matrix[nm,nn])-(F[nm,nm]+F[nn,nn]-2*F[nm,nn]))))\n",
    "dlk = np.array(dlk)[:, np.newaxis]\n",
    "print(\"Coeficientes dlk\")\n",
    "print(dlk)"
   ]
  },
  {
   "cell_type": "code",
   "execution_count": 119,
   "metadata": {},
   "outputs": [
    {
     "name": "stdout",
     "output_type": "stream",
     "text": [
      "\n",
      "Nuevo flujo DC tras la contingencia de la linea 0-1:\n",
      "[[ 3.90330291]\n",
      " [ 1.08643451]\n",
      " [ 0.44555039]\n",
      " [ 0.24568315]\n",
      " [ 0.06533195]\n",
      " [-0.26244961]\n",
      " [-0.75893931]\n",
      " [ 0.14598933]\n",
      " [ 0.11818353]\n",
      " [ 0.31682714]\n",
      " [ 0.07388147]\n",
      " [ 0.07704265]\n",
      " [ 0.17590302]\n",
      " [-0.174     ]\n",
      " [ 0.31998933]\n",
      " [ 0.05111853]\n",
      " [ 0.09205433]\n",
      " [-0.03888147]\n",
      " [ 0.01604265]\n",
      " [ 0.05694567]]\n"
     ]
    }
   ],
   "source": [
    "#Nuevo flujo DC tras la contingencia de la linea\n",
    "new_dc_power_flows = []\n",
    "for k in range(len(linedata)):\n",
    "    nl = int(linedata[k, 0])  # From-bus\n",
    "    nr = int(linedata[k, 1])  # To-bus\n",
    "    NP = dc_power_flows[k] + dlk[k] * dc_power_flows[1] \n",
    "    new_dc_power_flows.append(NP)\n",
    "new_dc_power_flows = np.array(new_dc_power_flows)\n",
    "print(\"\\nNuevo flujo DC tras la contingencia de la linea {}-{}:\".format(nm,nn))\n",
    "print(new_dc_power_flows)"
   ]
  },
  {
   "cell_type": "code",
   "execution_count": null,
   "metadata": {},
   "outputs": [],
   "source": []
  }
 ],
 "metadata": {
  "kernelspec": {
   "display_name": "Python 3",
   "language": "python",
   "name": "python3"
  },
  "language_info": {
   "codemirror_mode": {
    "name": "ipython",
    "version": 3
   },
   "file_extension": ".py",
   "mimetype": "text/x-python",
   "name": "python",
   "nbconvert_exporter": "python",
   "pygments_lexer": "ipython3",
   "version": "3.11.3"
  },
  "orig_nbformat": 4
 },
 "nbformat": 4,
 "nbformat_minor": 2
}
